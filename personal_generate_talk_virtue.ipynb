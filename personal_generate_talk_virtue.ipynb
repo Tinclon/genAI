{
 "cells": [
  {
   "metadata": {},
   "cell_type": "markdown",
   "source": [
    "# Some things to note\n",
    "\n",
    "The examples might trigger the profanity filter. Find out why using this splunk:\n",
    "https://ip.e2e.adhoc.splunk.intuit.com/en-US/app/search/search\n",
    "\n",
    "```\n",
    "index=* PredictionResponse \"profanity\" \"explanation\" acelaai-1752349762662470000\n",
    "```\n",
    "\n",
    "Some words that will likely trigger the filter:\n",
    "* Sex\n",
    "* Pornography\n",
    "* \n"
   ]
  },
  {
   "metadata": {},
   "cell_type": "code",
   "source": [
    "virtue1 = \"\"\"\n",
    "\"\"\""
   ],
   "outputs": [],
   "execution_count": null
  },
  {
   "metadata": {},
   "cell_type": "code",
   "source": [
    "virtue2 = \"\"\"\n",
    "\"\"\""
   ],
   "outputs": [],
   "execution_count": null
  },
  {
   "metadata": {},
   "cell_type": "code",
   "source": [
    "virtue3 = \"\"\"\n",
    "\"\"\""
   ],
   "outputs": [],
   "execution_count": null
  },
  {
   "metadata": {},
   "cell_type": "code",
   "source": [
    "virtue4 = \"\"\"\n",
    "\"\"\""
   ],
   "outputs": [],
   "execution_count": null
  },
  {
   "cell_type": "code",
   "metadata": {},
   "source": [
    "from app.graphql_gen.genos_utils import call_genos_api\n",
    "from datetime import datetime\n",
    "today = datetime.today().strftime(\"%B %d, %Y\")"
   ],
   "outputs": [],
   "execution_count": null
  },
  {
   "metadata": {},
   "cell_type": "code",
   "source": [
    "system_content = f\"\"\"\n",
    "Today's date is {today}.\n",
    "\n",
    "You are a youth member of the Church of Jesus Christ of Latter Day Saints, and your current calling is that of Young Women's Secretary.\n",
    "\n",
    "Generate a sacrament meeting sermon on the topic of `Virtue`.\n",
    "\n",
    "Begin the talk by telling a story that will illustrate what virtue is. The story does not have to be true. \n",
    "\n",
    "Assume a tone and voice that is friendly and easy to understand. Make it personal, enjoyable to hear, and uplifting. Embellish it with quotes from current prophets, scriptures, and hymns where applicable. Feel free to be specific where appropriate, and include relevant anecdotes and stories about people that will be interesting and engaging for the listener. Also include segments from LDS source materials like previous general conference talks, magazines, books, and manuals.\n",
    "\n",
    "Also reference the provided content various lessons and talks, and expand upon it. Provided content is delimited by exclamation marks.\n",
    "\n",
    "\n",
    "Only create the sermon with no additional reasoning or text. The sermon should be at least 3000 words long.\n",
    "Output should be in markdown format.\n",
    "\"\"\""
   ],
   "outputs": [],
   "execution_count": null
  },
  {
   "metadata": {},
   "cell_type": "code",
   "source": [
    "user_content = f\"\"\"\n",
    "\n",
    "!!!!!!!!!! provided content !!!!!!!!!!\n",
    "\n",
    "!!!!!!!!!!\n",
    "{virtue1}\n",
    "!!!!!!!!!!\n",
    "{virtue2}\n",
    "!!!!!!!!!!\n",
    "{virtue3}\n",
    "!!!!!!!!!!\n",
    "{virtue4}\n",
    "!!!!!!!!!!\n",
    "\n",
    "\"\"\""
   ],
   "outputs": [],
   "execution_count": null
  },
  {
   "metadata": {},
   "cell_type": "code",
   "source": [
    "result = call_genos_api(system_content=system_content, user_content=user_content)\n",
    "print(result)"
   ],
   "outputs": [],
   "execution_count": null
  }
 ],
 "metadata": {
  "kernelspec": {
   "display_name": ".venv",
   "language": "python",
   "name": "python3"
  },
  "language_info": {
   "codemirror_mode": {
    "name": "ipython",
    "version": 3
   },
   "file_extension": ".py",
   "mimetype": "text/x-python",
   "name": "python",
   "nbconvert_exporter": "python",
   "pygments_lexer": "ipython3",
   "version": "3.11.9"
  }
 },
 "nbformat": 4,
 "nbformat_minor": 2
}
